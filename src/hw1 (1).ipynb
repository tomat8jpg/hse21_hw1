{
 "cells": [
  {
   "cell_type": "code",
   "execution_count": 1,
   "metadata": {},
   "outputs": [],
   "source": [
    "import pandas as pd\n",
    "import math\n"
   ]
  },
  {
   "cell_type": "code",
   "execution_count": 3,
   "metadata": {},
   "outputs": [],
   "source": [
    "from Bio import SeqIO\n"
   ]
  },
  {
   "cell_type": "code",
   "execution_count": 5,
   "metadata": {},
   "outputs": [],
   "source": [
    "CONT = SeqIO.parse(\"Poil_contig.fa\", \"fasta\")\n",
    "SCAFF = SeqIO.parse(\"Poil_scaffold.fa\", \"fasta\")\n",
    "GAPCL = SeqIO.parse(\"Poil_gapClosed.fa\", \"fasta\")\n"
   ]
  },
  {
   "cell_type": "code",
   "execution_count": 6,
   "metadata": {},
   "outputs": [
    {
     "name": "stdout",
     "output_type": "stream",
     "text": [
      "общее кол-во контигов - 613\n",
      "общая длина контигов - 3925691\n",
      " длина самого длинного контига - 179307\n"
     ]
    }
   ],
   "source": [
    "# Анализ контигов\n",
    "sum_length = 0\n",
    "swop = []\n",
    "\n",
    "for line in CONT:\n",
    "  sum_length += len(line)\n",
    "  swop.append(len(line))\n",
    "swop = sorted(swop, reverse=True)\n",
    "number = len(swop)\n",
    "max_cont = max(swop)\n",
    "print('общее кол-во контигов -', number)\n",
    "print('общая длина контигов -', sum_length)\n",
    "print(' длина самого длинного контига -', max_cont)\n"
   ]
  },
  {
   "cell_type": "code",
   "execution_count": 7,
   "metadata": {},
   "outputs": [
    {
     "name": "stdout",
     "output_type": "stream",
     "text": [
      "N50 = 52799\n"
     ]
    }
   ],
   "source": [
    "raw_cont_stats = math.ceil(sum_length/2)\n",
    "stats = 0\n",
    "for m in swop:\n",
    "  stats += m\n",
    "  if stats > raw_cont_stats:\n",
    "    print('N50 =', m)\n",
    "    break\n"
   ]
  },
  {
   "cell_type": "code",
   "execution_count": 8,
   "metadata": {},
   "outputs": [
    {
     "name": "stdout",
     "output_type": "stream",
     "text": [
      "общее кол-во скаффолдов - 98\n",
      "общая длина скаффолдов - 3869667\n",
      " длина самого длинного скаффолда - 383582\n"
     ]
    }
   ],
   "source": [
    "#Анализ скаффолдов\n",
    "sum_length1 = 0\n",
    "swop1 = []\n",
    "\n",
    "for line in SCAFF:\n",
    "  sum_length1 += len(line)\n",
    "  swop1.append(len(line))\n",
    "swop1 = sorted(swop1, reverse=True)\n",
    "number1 = len(swop1)\n",
    "max_scaff = max(swop1)\n",
    "print('общее кол-во скаффолдов -', number1)\n",
    "print('общая длина скаффолдов -', sum_length1)\n",
    "print(' длина самого длинного скаффолда -', max_scaff)\n"
   ]
  },
  {
   "cell_type": "code",
   "execution_count": 9,
   "metadata": {},
   "outputs": [
    {
     "name": "stdout",
     "output_type": "stream",
     "text": [
      "N50 = 173397\n"
     ]
    }
   ],
   "source": [
    "raw_scaff_stats = math.ceil(sum_length1/2)\n",
    "stats1 = 0\n",
    "for m in swop1:\n",
    "  stats1 += m\n",
    "  if stats1 > raw_scaff_stats:\n",
    "    print('N50 =', m)\n",
    "    break"
   ]
  },
  {
   "cell_type": "code",
   "execution_count": 12,
   "metadata": {},
   "outputs": [
    {
     "name": "stdout",
     "output_type": "stream",
     "text": [
      "количество гэпов - 2\n",
      "длина гэпов - 31\n"
     ]
    }
   ],
   "source": [
    "SCAFF = SeqIO.parse(\"Poil_scaffold.fa\", \"fasta\")\n",
    "for line in SCAFF:\n",
    "  if len(line) == max_scaff:\n",
    "    gap_number = len(('1' + str(line.seq).replace('N', ' ') + '1').split()) - 1\n",
    "    N_number = str(line.seq).count('N')\n",
    "    print('количество гэпов -', gap_number)\n",
    "    print('длина гэпов -', N_number)\n",
    "    break"
   ]
  },
  {
   "cell_type": "code",
   "execution_count": 14,
   "metadata": {},
   "outputs": [
    {
     "name": "stdout",
     "output_type": "stream",
     "text": [
      "общее кол-во скаффолдов - 97\n",
      "общая длина скаффолдов - 3785228\n",
      " длина самого длинного скаффолда - 383574\n"
     ]
    }
   ],
   "source": [
    "#если уберем гэпы\n",
    "swop2 = []\n",
    "sum_length2 = 0\n",
    "\n",
    "for line in GAPCL:\n",
    "  sum_length2 += len(line)\n",
    "  swop2.append(len(line))\n",
    "swop2 = sorted(swop2, reverse=True)\n",
    "number2 = len(swop2)\n",
    "max_sc_gapcl = max(swop2)\n",
    "print('общее кол-во скаффолдов -', number2)\n",
    "print('общая длина скаффолдов -', sum_length2)\n",
    "print(' длина самого длинного скаффолда -', max_sc_gapcl)"
   ]
  },
  {
   "cell_type": "code",
   "execution_count": 15,
   "metadata": {},
   "outputs": [
    {
     "name": "stdout",
     "output_type": "stream",
     "text": [
      "N50 = 173397\n"
     ]
    }
   ],
   "source": [
    "raw_sc_gapcl_stats = math.ceil(sum_length2/2)\n",
    "stats2 = 0\n",
    "for m in swop2:\n",
    "  stats2 += m\n",
    "  if stats2 > raw_sc_gapcl_stats:\n",
    "    print('N50 =', m)\n",
    "    break"
   ]
  },
  {
   "cell_type": "code",
   "execution_count": 16,
   "metadata": {},
   "outputs": [
    {
     "name": "stdout",
     "output_type": "stream",
     "text": [
      "количество гэпов - 0\n",
      "длина гэпов - 0\n"
     ]
    }
   ],
   "source": [
    "GAPCL = SeqIO.parse(\"Poil_gapClosed.fa\", \"fasta\")\n",
    "for line in GAPCL:\n",
    "  if len(line) == max_sc_gapcl:\n",
    "    gap_number1 = len(('1' + str(line.seq).replace('N', ' ') + '1').split()) - 1\n",
    "    N_number1 = str(line.seq).count('N')\n",
    "    print('количество гэпов -', gap_number1)\n",
    "    print('длина гэпов -', N_number1)\n",
    "    break"
   ]
  },
  {
   "cell_type": "markdown",
   "metadata": {},
   "source": [
    "ВАУ!"
   ]
  }
 ],
 "metadata": {
  "kernelspec": {
   "display_name": "Python 3",
   "language": "python",
   "name": "python3"
  },
  "language_info": {
   "codemirror_mode": {
    "name": "ipython",
    "version": 3
   },
   "file_extension": ".py",
   "mimetype": "text/x-python",
   "name": "python",
   "nbconvert_exporter": "python",
   "pygments_lexer": "ipython3",
   "version": "3.7.6"
  }
 },
 "nbformat": 4,
 "nbformat_minor": 4
}
